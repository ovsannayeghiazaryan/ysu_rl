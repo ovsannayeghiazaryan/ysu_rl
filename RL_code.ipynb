{
  "nbformat": 4,
  "nbformat_minor": 0,
  "metadata": {
    "colab": {
      "name": "RL_code.ipynb",
      "provenance": [],
      "collapsed_sections": []
    },
    "kernelspec": {
      "name": "python3",
      "display_name": "Python 3"
    }
  },
  "cells": [
    {
      "cell_type": "code",
      "metadata": {
        "id": "tSeIWinM7L4r",
        "colab_type": "code",
        "outputId": "9d5e08df-2ab4-47c1-ce72-3ad0f611b1ab",
        "colab": {
          "base_uri": "https://localhost:8080/",
          "height": 80
        }
      },
      "source": [
        "import pandas as pd\n",
        "import keras\n",
        "from keras.models import Sequential\n",
        "from keras.models import load_model\n",
        "from keras.layers import Dense\n",
        "from keras.optimizers import Adam\n",
        "\n",
        "import numpy as np\n",
        "import random\n",
        "from collections import deque\n",
        "\n",
        "class Agent:\n",
        "\tdef __init__(self, state_size, is_eval=False, model_name=\"\"):\n",
        "\t\tself.state_size = state_size # normalized previous days\n",
        "\t\tself.action_size = 3 # sit, buy, sell\n",
        "\t\tself.memory = deque(maxlen=1000)\n",
        "\t\tself.inventory = []\n",
        "\t\tself.model_name = model_name\n",
        "\t\tself.is_eval = is_eval\n",
        "\n",
        "\t\tself.gamma = 0.95\n",
        "\t\tself.epsilon = 1.0\n",
        "\t\tself.epsilon_min = 0.01\n",
        "\t\tself.epsilon_decay = 0.995\n",
        "\n",
        "\t\tself.model = load_model(\"models/\" + model_name) if is_eval else self._model()\n",
        "\n",
        "\tdef _model(self):\n",
        "\t\tmodel = Sequential()\n",
        "\t\tmodel.add(Dense(units=64, input_dim=self.state_size, activation=\"relu\"))\n",
        "\t\tmodel.add(Dense(units=32, activation=\"relu\"))\n",
        "\t\tmodel.add(Dense(units=8, activation=\"relu\"))\n",
        "\t\tmodel.add(Dense(self.action_size, activation=\"linear\"))\n",
        "\t\tmodel.compile(loss=\"mse\", optimizer=Adam(lr=0.001))\n",
        "\n",
        "\t\treturn model\n",
        "\n",
        "\tdef act(self, state):\n",
        "\t\tif not self.is_eval and random.random() <= self.epsilon:\n",
        "\t\t\treturn random.randrange(self.action_size)\n",
        "\n",
        "\t\toptions = self.model.predict(state)\n",
        "\t\treturn np.argmax(options[0])\n",
        "\n",
        "\tdef expReplay(self, batch_size):\n",
        "\t\tmini_batch = []\n",
        "\t\tl = len(self.memory)\n",
        "\t\tfor i in range(l - batch_size + 1, l):\n",
        "\t\t\tmini_batch.append(self.memory[i])\n",
        "\n",
        "\t\tfor state, action, reward, next_state, done in mini_batch:\n",
        "\t\t\ttarget = reward\n",
        "\t\t\tif not done:\n",
        "\t\t\t\ttarget = reward + self.gamma * np.amax(self.model.predict(next_state)[0])\n",
        "\n",
        "\t\t\ttarget_f = self.model.predict(state)\n",
        "\t\t\ttarget_f[0][action] = target\n",
        "\t\t\tself.model.fit(state, target_f, epochs=1, verbose=0)\n",
        "\n",
        "\t\tif self.epsilon > self.epsilon_min:\n",
        "\t\t\tself.epsilon *= self.epsilon_decay "
      ],
      "execution_count": 0,
      "outputs": [
        {
          "output_type": "stream",
          "text": [
            "Using TensorFlow backend.\n"
          ],
          "name": "stderr"
        },
        {
          "output_type": "display_data",
          "data": {
            "text/html": [
              "<p style=\"color: red;\">\n",
              "The default version of TensorFlow in Colab will soon switch to TensorFlow 2.x.<br>\n",
              "We recommend you <a href=\"https://www.tensorflow.org/guide/migrate\" target=\"_blank\">upgrade</a> now \n",
              "or ensure your notebook will continue to use TensorFlow 1.x via the <code>%tensorflow_version 1.x</code> magic:\n",
              "<a href=\"https://colab.research.google.com/notebooks/tensorflow_version.ipynb\" target=\"_blank\">more info</a>.</p>\n"
            ],
            "text/plain": [
              "<IPython.core.display.HTML object>"
            ]
          },
          "metadata": {
            "tags": []
          }
        }
      ]
    },
    {
      "cell_type": "code",
      "metadata": {
        "id": "bVSyAckgCKxq",
        "colab_type": "code",
        "colab": {}
      },
      "source": [
        "import pandas as pd\n",
        "data=pd.read_csv('gdrive/My Drive/TSLA.csv')"
      ],
      "execution_count": 0,
      "outputs": []
    },
    {
      "cell_type": "code",
      "metadata": {
        "id": "F1Tm-kPSNiNX",
        "colab_type": "code",
        "colab": {}
      },
      "source": [
        "import numpy as np\n",
        "import math\n",
        "def formatPrice(n):\n",
        "\treturn (\"-$\" if n < 0 else \"$\") + \"{0:.2f}\".format(abs(n))\n",
        "\n",
        "\n"
      ],
      "execution_count": 0,
      "outputs": []
    },
    {
      "cell_type": "code",
      "metadata": {
        "id": "NBdzHM7lCvxj",
        "colab_type": "code",
        "colab": {}
      },
      "source": [
        ""
      ],
      "execution_count": 0,
      "outputs": []
    },
    {
      "cell_type": "code",
      "metadata": {
        "id": "b1FpZnSj_8cB",
        "colab_type": "code",
        "colab": {}
      },
      "source": [
        "def getStockDataVec( key):\n",
        "\tvec = []\n",
        "\tlines = open(\"data/\" + key + \".csv\", \"r\").read().splitlines()\n",
        "\n",
        "\tfor line in lines[1:]:\n",
        "\t\tvec.append(float(line.split(\",\")[4]))\n",
        "\n",
        "\treturn vec\n",
        "\n"
      ],
      "execution_count": 0,
      "outputs": []
    },
    {
      "cell_type": "code",
      "metadata": {
        "id": "j-TItZwpCBc8",
        "colab_type": "code",
        "outputId": "7a447f9a-b75e-49b8-e330-da549f0df965",
        "colab": {
          "base_uri": "https://localhost:8080/",
          "height": 425
        }
      },
      "source": [
        ""
      ],
      "execution_count": 0,
      "outputs": [
        {
          "output_type": "error",
          "ename": "UFuncTypeError",
          "evalue": "ignored",
          "traceback": [
            "\u001b[0;31m---------------------------------------------------------------------------\u001b[0m",
            "\u001b[0;31mUFuncTypeError\u001b[0m                            Traceback (most recent call last)",
            "\u001b[0;32m/usr/local/lib/python3.6/dist-packages/pandas/core/ops/__init__.py\u001b[0m in \u001b[0;36mna_op\u001b[0;34m(x, y)\u001b[0m\n\u001b[1;32m    967\u001b[0m         \u001b[0;32mtry\u001b[0m\u001b[0;34m:\u001b[0m\u001b[0;34m\u001b[0m\u001b[0;34m\u001b[0m\u001b[0m\n\u001b[0;32m--> 968\u001b[0;31m             \u001b[0mresult\u001b[0m \u001b[0;34m=\u001b[0m \u001b[0mexpressions\u001b[0m\u001b[0;34m.\u001b[0m\u001b[0mevaluate\u001b[0m\u001b[0;34m(\u001b[0m\u001b[0mop\u001b[0m\u001b[0;34m,\u001b[0m \u001b[0mstr_rep\u001b[0m\u001b[0;34m,\u001b[0m \u001b[0mx\u001b[0m\u001b[0;34m,\u001b[0m \u001b[0my\u001b[0m\u001b[0;34m,\u001b[0m \u001b[0;34m**\u001b[0m\u001b[0meval_kwargs\u001b[0m\u001b[0;34m)\u001b[0m\u001b[0;34m\u001b[0m\u001b[0;34m\u001b[0m\u001b[0m\n\u001b[0m\u001b[1;32m    969\u001b[0m         \u001b[0;32mexcept\u001b[0m \u001b[0mTypeError\u001b[0m\u001b[0;34m:\u001b[0m\u001b[0;34m\u001b[0m\u001b[0;34m\u001b[0m\u001b[0m\n",
            "\u001b[0;32m/usr/local/lib/python3.6/dist-packages/pandas/core/computation/expressions.py\u001b[0m in \u001b[0;36mevaluate\u001b[0;34m(op, op_str, a, b, use_numexpr, **eval_kwargs)\u001b[0m\n\u001b[1;32m    220\u001b[0m     \u001b[0;32mif\u001b[0m \u001b[0muse_numexpr\u001b[0m\u001b[0;34m:\u001b[0m\u001b[0;34m\u001b[0m\u001b[0;34m\u001b[0m\u001b[0m\n\u001b[0;32m--> 221\u001b[0;31m         \u001b[0;32mreturn\u001b[0m \u001b[0m_evaluate\u001b[0m\u001b[0;34m(\u001b[0m\u001b[0mop\u001b[0m\u001b[0;34m,\u001b[0m \u001b[0mop_str\u001b[0m\u001b[0;34m,\u001b[0m \u001b[0ma\u001b[0m\u001b[0;34m,\u001b[0m \u001b[0mb\u001b[0m\u001b[0;34m,\u001b[0m \u001b[0;34m**\u001b[0m\u001b[0meval_kwargs\u001b[0m\u001b[0;34m)\u001b[0m\u001b[0;34m\u001b[0m\u001b[0;34m\u001b[0m\u001b[0m\n\u001b[0m\u001b[1;32m    222\u001b[0m     \u001b[0;32mreturn\u001b[0m \u001b[0m_evaluate_standard\u001b[0m\u001b[0;34m(\u001b[0m\u001b[0mop\u001b[0m\u001b[0;34m,\u001b[0m \u001b[0mop_str\u001b[0m\u001b[0;34m,\u001b[0m \u001b[0ma\u001b[0m\u001b[0;34m,\u001b[0m \u001b[0mb\u001b[0m\u001b[0;34m)\u001b[0m\u001b[0;34m\u001b[0m\u001b[0;34m\u001b[0m\u001b[0m\n",
            "\u001b[0;32m/usr/local/lib/python3.6/dist-packages/pandas/core/computation/expressions.py\u001b[0m in \u001b[0;36m_evaluate_standard\u001b[0;34m(op, op_str, a, b, **eval_kwargs)\u001b[0m\n\u001b[1;32m     69\u001b[0m     \u001b[0;32mwith\u001b[0m \u001b[0mnp\u001b[0m\u001b[0;34m.\u001b[0m\u001b[0merrstate\u001b[0m\u001b[0;34m(\u001b[0m\u001b[0mall\u001b[0m\u001b[0;34m=\u001b[0m\u001b[0;34m\"ignore\"\u001b[0m\u001b[0;34m)\u001b[0m\u001b[0;34m:\u001b[0m\u001b[0;34m\u001b[0m\u001b[0;34m\u001b[0m\u001b[0m\n\u001b[0;32m---> 70\u001b[0;31m         \u001b[0;32mreturn\u001b[0m \u001b[0mop\u001b[0m\u001b[0;34m(\u001b[0m\u001b[0ma\u001b[0m\u001b[0;34m,\u001b[0m \u001b[0mb\u001b[0m\u001b[0;34m)\u001b[0m\u001b[0;34m\u001b[0m\u001b[0;34m\u001b[0m\u001b[0m\n\u001b[0m\u001b[1;32m     71\u001b[0m \u001b[0;34m\u001b[0m\u001b[0m\n",
            "\u001b[0;32m/usr/local/lib/python3.6/dist-packages/pandas/core/ops/roperator.py\u001b[0m in \u001b[0;36mradd\u001b[0;34m(left, right)\u001b[0m\n\u001b[1;32m      8\u001b[0m \u001b[0;32mdef\u001b[0m \u001b[0mradd\u001b[0m\u001b[0;34m(\u001b[0m\u001b[0mleft\u001b[0m\u001b[0;34m,\u001b[0m \u001b[0mright\u001b[0m\u001b[0;34m)\u001b[0m\u001b[0;34m:\u001b[0m\u001b[0;34m\u001b[0m\u001b[0;34m\u001b[0m\u001b[0m\n\u001b[0;32m----> 9\u001b[0;31m     \u001b[0;32mreturn\u001b[0m \u001b[0mright\u001b[0m \u001b[0;34m+\u001b[0m \u001b[0mleft\u001b[0m\u001b[0;34m\u001b[0m\u001b[0;34m\u001b[0m\u001b[0m\n\u001b[0m\u001b[1;32m     10\u001b[0m \u001b[0;34m\u001b[0m\u001b[0m\n",
            "\u001b[0;31mUFuncTypeError\u001b[0m: ufunc 'add' did not contain a loop with signature matching types (dtype('<U32'), dtype('<U32')) -> dtype('<U32')",
            "\nDuring handling of the above exception, another exception occurred:\n",
            "\u001b[0;31mUFuncTypeError\u001b[0m                            Traceback (most recent call last)",
            "\u001b[0;32m<ipython-input-6-8410e436de5e>\u001b[0m in \u001b[0;36m<module>\u001b[0;34m()\u001b[0m\n\u001b[0;32m----> 1\u001b[0;31m \u001b[0mgetStockDataVec\u001b[0m\u001b[0;34m(\u001b[0m\u001b[0mdata\u001b[0m\u001b[0;34m)\u001b[0m\u001b[0;34m\u001b[0m\u001b[0;34m\u001b[0m\u001b[0m\n\u001b[0m",
            "\u001b[0;32m<ipython-input-3-52c0ff2c1b16>\u001b[0m in \u001b[0;36mgetStockDataVec\u001b[0;34m(key)\u001b[0m\n\u001b[1;32m      1\u001b[0m \u001b[0;32mdef\u001b[0m \u001b[0mgetStockDataVec\u001b[0m\u001b[0;34m(\u001b[0m \u001b[0mkey\u001b[0m\u001b[0;34m)\u001b[0m\u001b[0;34m:\u001b[0m\u001b[0;34m\u001b[0m\u001b[0;34m\u001b[0m\u001b[0m\n\u001b[1;32m      2\u001b[0m         \u001b[0mvec\u001b[0m \u001b[0;34m=\u001b[0m \u001b[0;34m[\u001b[0m\u001b[0;34m]\u001b[0m\u001b[0;34m\u001b[0m\u001b[0;34m\u001b[0m\u001b[0m\n\u001b[0;32m----> 3\u001b[0;31m         \u001b[0mlines\u001b[0m \u001b[0;34m=\u001b[0m \u001b[0mopen\u001b[0m\u001b[0;34m(\u001b[0m\u001b[0;34m\"data/\"\u001b[0m \u001b[0;34m+\u001b[0m \u001b[0mkey\u001b[0m \u001b[0;34m+\u001b[0m \u001b[0;34m\".csv\"\u001b[0m\u001b[0;34m,\u001b[0m \u001b[0;34m\"r\"\u001b[0m\u001b[0;34m)\u001b[0m\u001b[0;34m.\u001b[0m\u001b[0mread\u001b[0m\u001b[0;34m(\u001b[0m\u001b[0;34m)\u001b[0m\u001b[0;34m.\u001b[0m\u001b[0msplitlines\u001b[0m\u001b[0;34m(\u001b[0m\u001b[0;34m)\u001b[0m\u001b[0;34m\u001b[0m\u001b[0;34m\u001b[0m\u001b[0m\n\u001b[0m\u001b[1;32m      4\u001b[0m \u001b[0;34m\u001b[0m\u001b[0m\n\u001b[1;32m      5\u001b[0m         \u001b[0;32mfor\u001b[0m \u001b[0mline\u001b[0m \u001b[0;32min\u001b[0m \u001b[0mlines\u001b[0m\u001b[0;34m[\u001b[0m\u001b[0;36m1\u001b[0m\u001b[0;34m:\u001b[0m\u001b[0;34m]\u001b[0m\u001b[0;34m:\u001b[0m\u001b[0;34m\u001b[0m\u001b[0;34m\u001b[0m\u001b[0m\n",
            "\u001b[0;32m/usr/local/lib/python3.6/dist-packages/pandas/core/ops/__init__.py\u001b[0m in \u001b[0;36mf\u001b[0;34m(self, other, axis, level, fill_value)\u001b[0m\n\u001b[1;32m   1504\u001b[0m \u001b[0;34m\u001b[0m\u001b[0m\n\u001b[1;32m   1505\u001b[0m             \u001b[0;32massert\u001b[0m \u001b[0mnp\u001b[0m\u001b[0;34m.\u001b[0m\u001b[0mndim\u001b[0m\u001b[0;34m(\u001b[0m\u001b[0mother\u001b[0m\u001b[0;34m)\u001b[0m \u001b[0;34m==\u001b[0m \u001b[0;36m0\u001b[0m\u001b[0;34m\u001b[0m\u001b[0;34m\u001b[0m\u001b[0m\n\u001b[0;32m-> 1506\u001b[0;31m             \u001b[0;32mreturn\u001b[0m \u001b[0mself\u001b[0m\u001b[0;34m.\u001b[0m\u001b[0m_combine_const\u001b[0m\u001b[0;34m(\u001b[0m\u001b[0mother\u001b[0m\u001b[0;34m,\u001b[0m \u001b[0mop\u001b[0m\u001b[0;34m)\u001b[0m\u001b[0;34m\u001b[0m\u001b[0;34m\u001b[0m\u001b[0m\n\u001b[0m\u001b[1;32m   1507\u001b[0m \u001b[0;34m\u001b[0m\u001b[0m\n\u001b[1;32m   1508\u001b[0m     \u001b[0mf\u001b[0m\u001b[0;34m.\u001b[0m\u001b[0m__name__\u001b[0m \u001b[0;34m=\u001b[0m \u001b[0mop_name\u001b[0m\u001b[0;34m\u001b[0m\u001b[0;34m\u001b[0m\u001b[0m\n",
            "\u001b[0;32m/usr/local/lib/python3.6/dist-packages/pandas/core/frame.py\u001b[0m in \u001b[0;36m_combine_const\u001b[0;34m(self, other, func)\u001b[0m\n\u001b[1;32m   5416\u001b[0m     \u001b[0;32mdef\u001b[0m \u001b[0m_combine_const\u001b[0m\u001b[0;34m(\u001b[0m\u001b[0mself\u001b[0m\u001b[0;34m,\u001b[0m \u001b[0mother\u001b[0m\u001b[0;34m,\u001b[0m \u001b[0mfunc\u001b[0m\u001b[0;34m)\u001b[0m\u001b[0;34m:\u001b[0m\u001b[0;34m\u001b[0m\u001b[0;34m\u001b[0m\u001b[0m\n\u001b[1;32m   5417\u001b[0m         \u001b[0;32massert\u001b[0m \u001b[0mlib\u001b[0m\u001b[0;34m.\u001b[0m\u001b[0mis_scalar\u001b[0m\u001b[0;34m(\u001b[0m\u001b[0mother\u001b[0m\u001b[0;34m)\u001b[0m \u001b[0;32mor\u001b[0m \u001b[0mnp\u001b[0m\u001b[0;34m.\u001b[0m\u001b[0mndim\u001b[0m\u001b[0;34m(\u001b[0m\u001b[0mother\u001b[0m\u001b[0;34m)\u001b[0m \u001b[0;34m==\u001b[0m \u001b[0;36m0\u001b[0m\u001b[0;34m\u001b[0m\u001b[0;34m\u001b[0m\u001b[0m\n\u001b[0;32m-> 5418\u001b[0;31m         \u001b[0;32mreturn\u001b[0m \u001b[0mops\u001b[0m\u001b[0;34m.\u001b[0m\u001b[0mdispatch_to_series\u001b[0m\u001b[0;34m(\u001b[0m\u001b[0mself\u001b[0m\u001b[0;34m,\u001b[0m \u001b[0mother\u001b[0m\u001b[0;34m,\u001b[0m \u001b[0mfunc\u001b[0m\u001b[0;34m)\u001b[0m\u001b[0;34m\u001b[0m\u001b[0;34m\u001b[0m\u001b[0m\n\u001b[0m\u001b[1;32m   5419\u001b[0m \u001b[0;34m\u001b[0m\u001b[0m\n\u001b[1;32m   5420\u001b[0m     \u001b[0;32mdef\u001b[0m \u001b[0mcombine\u001b[0m\u001b[0;34m(\u001b[0m\u001b[0mself\u001b[0m\u001b[0;34m,\u001b[0m \u001b[0mother\u001b[0m\u001b[0;34m,\u001b[0m \u001b[0mfunc\u001b[0m\u001b[0;34m,\u001b[0m \u001b[0mfill_value\u001b[0m\u001b[0;34m=\u001b[0m\u001b[0;32mNone\u001b[0m\u001b[0;34m,\u001b[0m \u001b[0moverwrite\u001b[0m\u001b[0;34m=\u001b[0m\u001b[0;32mTrue\u001b[0m\u001b[0;34m)\u001b[0m\u001b[0;34m:\u001b[0m\u001b[0;34m\u001b[0m\u001b[0;34m\u001b[0m\u001b[0m\n",
            "\u001b[0;32m/usr/local/lib/python3.6/dist-packages/pandas/core/ops/__init__.py\u001b[0m in \u001b[0;36mdispatch_to_series\u001b[0;34m(left, right, func, str_rep, axis)\u001b[0m\n\u001b[1;32m    594\u001b[0m         \u001b[0;32mraise\u001b[0m \u001b[0mNotImplementedError\u001b[0m\u001b[0;34m(\u001b[0m\u001b[0mright\u001b[0m\u001b[0;34m)\u001b[0m\u001b[0;34m\u001b[0m\u001b[0;34m\u001b[0m\u001b[0m\n\u001b[1;32m    595\u001b[0m \u001b[0;34m\u001b[0m\u001b[0m\n\u001b[0;32m--> 596\u001b[0;31m     \u001b[0mnew_data\u001b[0m \u001b[0;34m=\u001b[0m \u001b[0mexpressions\u001b[0m\u001b[0;34m.\u001b[0m\u001b[0mevaluate\u001b[0m\u001b[0;34m(\u001b[0m\u001b[0mcolumn_op\u001b[0m\u001b[0;34m,\u001b[0m \u001b[0mstr_rep\u001b[0m\u001b[0;34m,\u001b[0m \u001b[0mleft\u001b[0m\u001b[0;34m,\u001b[0m \u001b[0mright\u001b[0m\u001b[0;34m)\u001b[0m\u001b[0;34m\u001b[0m\u001b[0;34m\u001b[0m\u001b[0m\n\u001b[0m\u001b[1;32m    597\u001b[0m \u001b[0;34m\u001b[0m\u001b[0m\n\u001b[1;32m    598\u001b[0m     \u001b[0mresult\u001b[0m \u001b[0;34m=\u001b[0m \u001b[0mleft\u001b[0m\u001b[0;34m.\u001b[0m\u001b[0m_constructor\u001b[0m\u001b[0;34m(\u001b[0m\u001b[0mnew_data\u001b[0m\u001b[0;34m,\u001b[0m \u001b[0mindex\u001b[0m\u001b[0;34m=\u001b[0m\u001b[0mleft\u001b[0m\u001b[0;34m.\u001b[0m\u001b[0mindex\u001b[0m\u001b[0;34m,\u001b[0m \u001b[0mcopy\u001b[0m\u001b[0;34m=\u001b[0m\u001b[0;32mFalse\u001b[0m\u001b[0;34m)\u001b[0m\u001b[0;34m\u001b[0m\u001b[0;34m\u001b[0m\u001b[0m\n",
            "\u001b[0;32m/usr/local/lib/python3.6/dist-packages/pandas/core/computation/expressions.py\u001b[0m in \u001b[0;36mevaluate\u001b[0;34m(op, op_str, a, b, use_numexpr, **eval_kwargs)\u001b[0m\n\u001b[1;32m    219\u001b[0m     \u001b[0muse_numexpr\u001b[0m \u001b[0;34m=\u001b[0m \u001b[0muse_numexpr\u001b[0m \u001b[0;32mand\u001b[0m \u001b[0m_bool_arith_check\u001b[0m\u001b[0;34m(\u001b[0m\u001b[0mop_str\u001b[0m\u001b[0;34m,\u001b[0m \u001b[0ma\u001b[0m\u001b[0;34m,\u001b[0m \u001b[0mb\u001b[0m\u001b[0;34m)\u001b[0m\u001b[0;34m\u001b[0m\u001b[0;34m\u001b[0m\u001b[0m\n\u001b[1;32m    220\u001b[0m     \u001b[0;32mif\u001b[0m \u001b[0muse_numexpr\u001b[0m\u001b[0;34m:\u001b[0m\u001b[0;34m\u001b[0m\u001b[0;34m\u001b[0m\u001b[0m\n\u001b[0;32m--> 221\u001b[0;31m         \u001b[0;32mreturn\u001b[0m \u001b[0m_evaluate\u001b[0m\u001b[0;34m(\u001b[0m\u001b[0mop\u001b[0m\u001b[0;34m,\u001b[0m \u001b[0mop_str\u001b[0m\u001b[0;34m,\u001b[0m \u001b[0ma\u001b[0m\u001b[0;34m,\u001b[0m \u001b[0mb\u001b[0m\u001b[0;34m,\u001b[0m \u001b[0;34m**\u001b[0m\u001b[0meval_kwargs\u001b[0m\u001b[0;34m)\u001b[0m\u001b[0;34m\u001b[0m\u001b[0;34m\u001b[0m\u001b[0m\n\u001b[0m\u001b[1;32m    222\u001b[0m     \u001b[0;32mreturn\u001b[0m \u001b[0m_evaluate_standard\u001b[0m\u001b[0;34m(\u001b[0m\u001b[0mop\u001b[0m\u001b[0;34m,\u001b[0m \u001b[0mop_str\u001b[0m\u001b[0;34m,\u001b[0m \u001b[0ma\u001b[0m\u001b[0;34m,\u001b[0m \u001b[0mb\u001b[0m\u001b[0;34m)\u001b[0m\u001b[0;34m\u001b[0m\u001b[0;34m\u001b[0m\u001b[0m\n\u001b[1;32m    223\u001b[0m \u001b[0;34m\u001b[0m\u001b[0m\n",
            "\u001b[0;32m/usr/local/lib/python3.6/dist-packages/pandas/core/computation/expressions.py\u001b[0m in \u001b[0;36m_evaluate_standard\u001b[0;34m(op, op_str, a, b, **eval_kwargs)\u001b[0m\n\u001b[1;32m     68\u001b[0m         \u001b[0m_store_test_result\u001b[0m\u001b[0;34m(\u001b[0m\u001b[0;32mFalse\u001b[0m\u001b[0;34m)\u001b[0m\u001b[0;34m\u001b[0m\u001b[0;34m\u001b[0m\u001b[0m\n\u001b[1;32m     69\u001b[0m     \u001b[0;32mwith\u001b[0m \u001b[0mnp\u001b[0m\u001b[0;34m.\u001b[0m\u001b[0merrstate\u001b[0m\u001b[0;34m(\u001b[0m\u001b[0mall\u001b[0m\u001b[0;34m=\u001b[0m\u001b[0;34m\"ignore\"\u001b[0m\u001b[0;34m)\u001b[0m\u001b[0;34m:\u001b[0m\u001b[0;34m\u001b[0m\u001b[0;34m\u001b[0m\u001b[0m\n\u001b[0;32m---> 70\u001b[0;31m         \u001b[0;32mreturn\u001b[0m \u001b[0mop\u001b[0m\u001b[0;34m(\u001b[0m\u001b[0ma\u001b[0m\u001b[0;34m,\u001b[0m \u001b[0mb\u001b[0m\u001b[0;34m)\u001b[0m\u001b[0;34m\u001b[0m\u001b[0;34m\u001b[0m\u001b[0m\n\u001b[0m\u001b[1;32m     71\u001b[0m \u001b[0;34m\u001b[0m\u001b[0m\n\u001b[1;32m     72\u001b[0m \u001b[0;34m\u001b[0m\u001b[0m\n",
            "\u001b[0;32m/usr/local/lib/python3.6/dist-packages/pandas/core/ops/__init__.py\u001b[0m in \u001b[0;36mcolumn_op\u001b[0;34m(a, b)\u001b[0m\n\u001b[1;32m    568\u001b[0m \u001b[0;34m\u001b[0m\u001b[0m\n\u001b[1;32m    569\u001b[0m         \u001b[0;32mdef\u001b[0m \u001b[0mcolumn_op\u001b[0m\u001b[0;34m(\u001b[0m\u001b[0ma\u001b[0m\u001b[0;34m,\u001b[0m \u001b[0mb\u001b[0m\u001b[0;34m)\u001b[0m\u001b[0;34m:\u001b[0m\u001b[0;34m\u001b[0m\u001b[0;34m\u001b[0m\u001b[0m\n\u001b[0;32m--> 570\u001b[0;31m             \u001b[0;32mreturn\u001b[0m \u001b[0;34m{\u001b[0m\u001b[0mi\u001b[0m\u001b[0;34m:\u001b[0m \u001b[0mfunc\u001b[0m\u001b[0;34m(\u001b[0m\u001b[0ma\u001b[0m\u001b[0;34m.\u001b[0m\u001b[0miloc\u001b[0m\u001b[0;34m[\u001b[0m\u001b[0;34m:\u001b[0m\u001b[0;34m,\u001b[0m \u001b[0mi\u001b[0m\u001b[0;34m]\u001b[0m\u001b[0;34m,\u001b[0m \u001b[0mb\u001b[0m\u001b[0;34m)\u001b[0m \u001b[0;32mfor\u001b[0m \u001b[0mi\u001b[0m \u001b[0;32min\u001b[0m \u001b[0mrange\u001b[0m\u001b[0;34m(\u001b[0m\u001b[0mlen\u001b[0m\u001b[0;34m(\u001b[0m\u001b[0ma\u001b[0m\u001b[0;34m.\u001b[0m\u001b[0mcolumns\u001b[0m\u001b[0;34m)\u001b[0m\u001b[0;34m)\u001b[0m\u001b[0;34m}\u001b[0m\u001b[0;34m\u001b[0m\u001b[0;34m\u001b[0m\u001b[0m\n\u001b[0m\u001b[1;32m    571\u001b[0m \u001b[0;34m\u001b[0m\u001b[0m\n\u001b[1;32m    572\u001b[0m     \u001b[0;32melif\u001b[0m \u001b[0misinstance\u001b[0m\u001b[0;34m(\u001b[0m\u001b[0mright\u001b[0m\u001b[0;34m,\u001b[0m \u001b[0mABCDataFrame\u001b[0m\u001b[0;34m)\u001b[0m\u001b[0;34m:\u001b[0m\u001b[0;34m\u001b[0m\u001b[0;34m\u001b[0m\u001b[0m\n",
            "\u001b[0;32m/usr/local/lib/python3.6/dist-packages/pandas/core/ops/__init__.py\u001b[0m in \u001b[0;36m<dictcomp>\u001b[0;34m(.0)\u001b[0m\n\u001b[1;32m    568\u001b[0m \u001b[0;34m\u001b[0m\u001b[0m\n\u001b[1;32m    569\u001b[0m         \u001b[0;32mdef\u001b[0m \u001b[0mcolumn_op\u001b[0m\u001b[0;34m(\u001b[0m\u001b[0ma\u001b[0m\u001b[0;34m,\u001b[0m \u001b[0mb\u001b[0m\u001b[0;34m)\u001b[0m\u001b[0;34m:\u001b[0m\u001b[0;34m\u001b[0m\u001b[0;34m\u001b[0m\u001b[0m\n\u001b[0;32m--> 570\u001b[0;31m             \u001b[0;32mreturn\u001b[0m \u001b[0;34m{\u001b[0m\u001b[0mi\u001b[0m\u001b[0;34m:\u001b[0m \u001b[0mfunc\u001b[0m\u001b[0;34m(\u001b[0m\u001b[0ma\u001b[0m\u001b[0;34m.\u001b[0m\u001b[0miloc\u001b[0m\u001b[0;34m[\u001b[0m\u001b[0;34m:\u001b[0m\u001b[0;34m,\u001b[0m \u001b[0mi\u001b[0m\u001b[0;34m]\u001b[0m\u001b[0;34m,\u001b[0m \u001b[0mb\u001b[0m\u001b[0;34m)\u001b[0m \u001b[0;32mfor\u001b[0m \u001b[0mi\u001b[0m \u001b[0;32min\u001b[0m \u001b[0mrange\u001b[0m\u001b[0;34m(\u001b[0m\u001b[0mlen\u001b[0m\u001b[0;34m(\u001b[0m\u001b[0ma\u001b[0m\u001b[0;34m.\u001b[0m\u001b[0mcolumns\u001b[0m\u001b[0;34m)\u001b[0m\u001b[0;34m)\u001b[0m\u001b[0;34m}\u001b[0m\u001b[0;34m\u001b[0m\u001b[0;34m\u001b[0m\u001b[0m\n\u001b[0m\u001b[1;32m    571\u001b[0m \u001b[0;34m\u001b[0m\u001b[0m\n\u001b[1;32m    572\u001b[0m     \u001b[0;32melif\u001b[0m \u001b[0misinstance\u001b[0m\u001b[0;34m(\u001b[0m\u001b[0mright\u001b[0m\u001b[0;34m,\u001b[0m \u001b[0mABCDataFrame\u001b[0m\u001b[0;34m)\u001b[0m\u001b[0;34m:\u001b[0m\u001b[0;34m\u001b[0m\u001b[0;34m\u001b[0m\u001b[0m\n",
            "\u001b[0;32m/usr/local/lib/python3.6/dist-packages/pandas/core/ops/roperator.py\u001b[0m in \u001b[0;36mradd\u001b[0;34m(left, right)\u001b[0m\n\u001b[1;32m      7\u001b[0m \u001b[0;34m\u001b[0m\u001b[0m\n\u001b[1;32m      8\u001b[0m \u001b[0;32mdef\u001b[0m \u001b[0mradd\u001b[0m\u001b[0;34m(\u001b[0m\u001b[0mleft\u001b[0m\u001b[0;34m,\u001b[0m \u001b[0mright\u001b[0m\u001b[0;34m)\u001b[0m\u001b[0;34m:\u001b[0m\u001b[0;34m\u001b[0m\u001b[0;34m\u001b[0m\u001b[0m\n\u001b[0;32m----> 9\u001b[0;31m     \u001b[0;32mreturn\u001b[0m \u001b[0mright\u001b[0m \u001b[0;34m+\u001b[0m \u001b[0mleft\u001b[0m\u001b[0;34m\u001b[0m\u001b[0;34m\u001b[0m\u001b[0m\n\u001b[0m\u001b[1;32m     10\u001b[0m \u001b[0;34m\u001b[0m\u001b[0m\n\u001b[1;32m     11\u001b[0m \u001b[0;34m\u001b[0m\u001b[0m\n",
            "\u001b[0;32m/usr/local/lib/python3.6/dist-packages/pandas/core/ops/__init__.py\u001b[0m in \u001b[0;36mwrapper\u001b[0;34m(left, right)\u001b[0m\n\u001b[1;32m   1046\u001b[0m \u001b[0;34m\u001b[0m\u001b[0m\n\u001b[1;32m   1047\u001b[0m         \u001b[0;32mwith\u001b[0m \u001b[0mnp\u001b[0m\u001b[0;34m.\u001b[0m\u001b[0merrstate\u001b[0m\u001b[0;34m(\u001b[0m\u001b[0mall\u001b[0m\u001b[0;34m=\u001b[0m\u001b[0;34m\"ignore\"\u001b[0m\u001b[0;34m)\u001b[0m\u001b[0;34m:\u001b[0m\u001b[0;34m\u001b[0m\u001b[0;34m\u001b[0m\u001b[0m\n\u001b[0;32m-> 1048\u001b[0;31m             \u001b[0mresult\u001b[0m \u001b[0;34m=\u001b[0m \u001b[0mna_op\u001b[0m\u001b[0;34m(\u001b[0m\u001b[0mlvalues\u001b[0m\u001b[0;34m,\u001b[0m \u001b[0mrvalues\u001b[0m\u001b[0;34m)\u001b[0m\u001b[0;34m\u001b[0m\u001b[0;34m\u001b[0m\u001b[0m\n\u001b[0m\u001b[1;32m   1049\u001b[0m         return construct_result(\n\u001b[1;32m   1050\u001b[0m             \u001b[0mleft\u001b[0m\u001b[0;34m,\u001b[0m \u001b[0mresult\u001b[0m\u001b[0;34m,\u001b[0m \u001b[0mindex\u001b[0m\u001b[0;34m=\u001b[0m\u001b[0mleft\u001b[0m\u001b[0;34m.\u001b[0m\u001b[0mindex\u001b[0m\u001b[0;34m,\u001b[0m \u001b[0mname\u001b[0m\u001b[0;34m=\u001b[0m\u001b[0mres_name\u001b[0m\u001b[0;34m,\u001b[0m \u001b[0mdtype\u001b[0m\u001b[0;34m=\u001b[0m\u001b[0;32mNone\u001b[0m\u001b[0;34m\u001b[0m\u001b[0;34m\u001b[0m\u001b[0m\n",
            "\u001b[0;32m/usr/local/lib/python3.6/dist-packages/pandas/core/ops/__init__.py\u001b[0m in \u001b[0;36mna_op\u001b[0;34m(x, y)\u001b[0m\n\u001b[1;32m    968\u001b[0m             \u001b[0mresult\u001b[0m \u001b[0;34m=\u001b[0m \u001b[0mexpressions\u001b[0m\u001b[0;34m.\u001b[0m\u001b[0mevaluate\u001b[0m\u001b[0;34m(\u001b[0m\u001b[0mop\u001b[0m\u001b[0;34m,\u001b[0m \u001b[0mstr_rep\u001b[0m\u001b[0;34m,\u001b[0m \u001b[0mx\u001b[0m\u001b[0;34m,\u001b[0m \u001b[0my\u001b[0m\u001b[0;34m,\u001b[0m \u001b[0;34m**\u001b[0m\u001b[0meval_kwargs\u001b[0m\u001b[0;34m)\u001b[0m\u001b[0;34m\u001b[0m\u001b[0;34m\u001b[0m\u001b[0m\n\u001b[1;32m    969\u001b[0m         \u001b[0;32mexcept\u001b[0m \u001b[0mTypeError\u001b[0m\u001b[0;34m:\u001b[0m\u001b[0;34m\u001b[0m\u001b[0;34m\u001b[0m\u001b[0m\n\u001b[0;32m--> 970\u001b[0;31m             \u001b[0mresult\u001b[0m \u001b[0;34m=\u001b[0m \u001b[0mmasked_arith_op\u001b[0m\u001b[0;34m(\u001b[0m\u001b[0mx\u001b[0m\u001b[0;34m,\u001b[0m \u001b[0my\u001b[0m\u001b[0;34m,\u001b[0m \u001b[0mop\u001b[0m\u001b[0;34m)\u001b[0m\u001b[0;34m\u001b[0m\u001b[0;34m\u001b[0m\u001b[0m\n\u001b[0m\u001b[1;32m    971\u001b[0m \u001b[0;34m\u001b[0m\u001b[0m\n\u001b[1;32m    972\u001b[0m         \u001b[0;32mreturn\u001b[0m \u001b[0mmissing\u001b[0m\u001b[0;34m.\u001b[0m\u001b[0mdispatch_fill_zeros\u001b[0m\u001b[0;34m(\u001b[0m\u001b[0mop\u001b[0m\u001b[0;34m,\u001b[0m \u001b[0mx\u001b[0m\u001b[0;34m,\u001b[0m \u001b[0my\u001b[0m\u001b[0;34m,\u001b[0m \u001b[0mresult\u001b[0m\u001b[0;34m)\u001b[0m\u001b[0;34m\u001b[0m\u001b[0;34m\u001b[0m\u001b[0m\n",
            "\u001b[0;32m/usr/local/lib/python3.6/dist-packages/pandas/core/ops/__init__.py\u001b[0m in \u001b[0;36mmasked_arith_op\u001b[0;34m(x, y, op)\u001b[0m\n\u001b[1;32m    462\u001b[0m         \u001b[0;32mif\u001b[0m \u001b[0mmask\u001b[0m\u001b[0;34m.\u001b[0m\u001b[0many\u001b[0m\u001b[0;34m(\u001b[0m\u001b[0;34m)\u001b[0m\u001b[0;34m:\u001b[0m\u001b[0;34m\u001b[0m\u001b[0;34m\u001b[0m\u001b[0m\n\u001b[1;32m    463\u001b[0m             \u001b[0;32mwith\u001b[0m \u001b[0mnp\u001b[0m\u001b[0;34m.\u001b[0m\u001b[0merrstate\u001b[0m\u001b[0;34m(\u001b[0m\u001b[0mall\u001b[0m\u001b[0;34m=\u001b[0m\u001b[0;34m\"ignore\"\u001b[0m\u001b[0;34m)\u001b[0m\u001b[0;34m:\u001b[0m\u001b[0;34m\u001b[0m\u001b[0;34m\u001b[0m\u001b[0m\n\u001b[0;32m--> 464\u001b[0;31m                 \u001b[0mresult\u001b[0m\u001b[0;34m[\u001b[0m\u001b[0mmask\u001b[0m\u001b[0;34m]\u001b[0m \u001b[0;34m=\u001b[0m \u001b[0mop\u001b[0m\u001b[0;34m(\u001b[0m\u001b[0mxrav\u001b[0m\u001b[0;34m[\u001b[0m\u001b[0mmask\u001b[0m\u001b[0;34m]\u001b[0m\u001b[0;34m,\u001b[0m \u001b[0my\u001b[0m\u001b[0;34m)\u001b[0m\u001b[0;34m\u001b[0m\u001b[0;34m\u001b[0m\u001b[0m\n\u001b[0m\u001b[1;32m    465\u001b[0m \u001b[0;34m\u001b[0m\u001b[0m\n\u001b[1;32m    466\u001b[0m     \u001b[0mresult\u001b[0m\u001b[0;34m,\u001b[0m \u001b[0mchanged\u001b[0m \u001b[0;34m=\u001b[0m \u001b[0mmaybe_upcast_putmask\u001b[0m\u001b[0;34m(\u001b[0m\u001b[0mresult\u001b[0m\u001b[0;34m,\u001b[0m \u001b[0;34m~\u001b[0m\u001b[0mmask\u001b[0m\u001b[0;34m,\u001b[0m \u001b[0mnp\u001b[0m\u001b[0;34m.\u001b[0m\u001b[0mnan\u001b[0m\u001b[0;34m)\u001b[0m\u001b[0;34m\u001b[0m\u001b[0;34m\u001b[0m\u001b[0m\n",
            "\u001b[0;32m/usr/local/lib/python3.6/dist-packages/pandas/core/ops/roperator.py\u001b[0m in \u001b[0;36mradd\u001b[0;34m(left, right)\u001b[0m\n\u001b[1;32m      7\u001b[0m \u001b[0;34m\u001b[0m\u001b[0m\n\u001b[1;32m      8\u001b[0m \u001b[0;32mdef\u001b[0m \u001b[0mradd\u001b[0m\u001b[0;34m(\u001b[0m\u001b[0mleft\u001b[0m\u001b[0;34m,\u001b[0m \u001b[0mright\u001b[0m\u001b[0;34m)\u001b[0m\u001b[0;34m:\u001b[0m\u001b[0;34m\u001b[0m\u001b[0;34m\u001b[0m\u001b[0m\n\u001b[0;32m----> 9\u001b[0;31m     \u001b[0;32mreturn\u001b[0m \u001b[0mright\u001b[0m \u001b[0;34m+\u001b[0m \u001b[0mleft\u001b[0m\u001b[0;34m\u001b[0m\u001b[0;34m\u001b[0m\u001b[0m\n\u001b[0m\u001b[1;32m     10\u001b[0m \u001b[0;34m\u001b[0m\u001b[0m\n\u001b[1;32m     11\u001b[0m \u001b[0;34m\u001b[0m\u001b[0m\n",
            "\u001b[0;31mUFuncTypeError\u001b[0m: ufunc 'add' did not contain a loop with signature matching types (dtype('<U32'), dtype('<U32')) -> dtype('<U32')"
          ]
        }
      ]
    },
    {
      "cell_type": "code",
      "metadata": {
        "id": "iPSXIg61ADvv",
        "colab_type": "code",
        "colab": {}
      },
      "source": [
        "def sigmoid(x):\n",
        "\treturn 1 / (1 + math.exp(-x))\n",
        "\n"
      ],
      "execution_count": 0,
      "outputs": []
    },
    {
      "cell_type": "code",
      "metadata": {
        "id": "2QRH4l9-ALP4",
        "colab_type": "code",
        "colab": {}
      },
      "source": [
        "# returns an an n-day state representation ending at time t\n",
        "def getState(data, t, n):\n",
        "\td = t - n + 1\n",
        "\tblock = data[d:t + 1] if d >= 0 else -d * [data[0]] + data[0:t + 1] # pad with t0\n",
        "\tres = []\n",
        "\tfor i in xrange(n - 1):\n",
        "\t\tres.append(sigmoid(block[i + 1] - block[i]))\n",
        "\n",
        "\treturn np.array([res])"
      ],
      "execution_count": 0,
      "outputs": []
    },
    {
      "cell_type": "code",
      "metadata": {
        "id": "RdqQHGHKcjjr",
        "colab_type": "code",
        "outputId": "8b5af0bd-0e50-43fc-c8c6-c30fcdde8789",
        "colab": {
          "base_uri": "https://localhost:8080/",
          "height": 197
        }
      },
      "source": [
        "import pandas as pd\n",
        "data=pd.read_csv('gdrive/My Drive/TSLA.csv', index_col='Date', parse_dates=['Date'])\n",
        "getState(data,10,21)"
      ],
      "execution_count": 0,
      "outputs": [
        {
          "output_type": "error",
          "ename": "NameError",
          "evalue": "ignored",
          "traceback": [
            "\u001b[0;31m---------------------------------------------------------------------------\u001b[0m",
            "\u001b[0;31mNameError\u001b[0m                                 Traceback (most recent call last)",
            "\u001b[0;32m<ipython-input-4-3dbbca2452ce>\u001b[0m in \u001b[0;36m<module>\u001b[0;34m()\u001b[0m\n\u001b[1;32m      1\u001b[0m \u001b[0;32mimport\u001b[0m \u001b[0mpandas\u001b[0m \u001b[0;32mas\u001b[0m \u001b[0mpd\u001b[0m\u001b[0;34m\u001b[0m\u001b[0;34m\u001b[0m\u001b[0m\n\u001b[1;32m      2\u001b[0m \u001b[0mdata\u001b[0m\u001b[0;34m=\u001b[0m\u001b[0mpd\u001b[0m\u001b[0;34m.\u001b[0m\u001b[0mread_csv\u001b[0m\u001b[0;34m(\u001b[0m\u001b[0;34m'gdrive/My Drive/TSLA.csv'\u001b[0m\u001b[0;34m,\u001b[0m \u001b[0mindex_col\u001b[0m\u001b[0;34m=\u001b[0m\u001b[0;34m'Date'\u001b[0m\u001b[0;34m,\u001b[0m \u001b[0mparse_dates\u001b[0m\u001b[0;34m=\u001b[0m\u001b[0;34m[\u001b[0m\u001b[0;34m'Date'\u001b[0m\u001b[0;34m]\u001b[0m\u001b[0;34m)\u001b[0m\u001b[0;34m\u001b[0m\u001b[0;34m\u001b[0m\u001b[0m\n\u001b[0;32m----> 3\u001b[0;31m \u001b[0mgetState\u001b[0m\u001b[0;34m(\u001b[0m\u001b[0mdata\u001b[0m\u001b[0;34m,\u001b[0m\u001b[0;36m10\u001b[0m\u001b[0;34m,\u001b[0m\u001b[0;36m21\u001b[0m\u001b[0;34m)\u001b[0m\u001b[0;34m\u001b[0m\u001b[0;34m\u001b[0m\u001b[0m\n\u001b[0m",
            "\u001b[0;31mNameError\u001b[0m: name 'getState' is not defined"
          ]
        }
      ]
    },
    {
      "cell_type": "code",
      "metadata": {
        "id": "QdbGqqal7lDo",
        "colab_type": "code",
        "outputId": "96e16ea7-fe68-4492-f984-404a427392c7",
        "colab": {
          "base_uri": "https://localhost:8080/",
          "height": 34
        }
      },
      "source": [
        "import sys\n",
        "if len(sys.argv) != 4:\n",
        "\tprint(\"Usage: python train.py [stock] [window] [episodes]\")\n",
        "\texit()\n",
        "stock_name, window_size, episode_count = sys.argv[0], 10, 200\n",
        "\n"
      ],
      "execution_count": 0,
      "outputs": [
        {
          "output_type": "stream",
          "text": [
            "Usage: python train.py [stock] [window] [episodes]\n"
          ],
          "name": "stdout"
        }
      ]
    },
    {
      "cell_type": "code",
      "metadata": {
        "id": "QC36EkgnAkIs",
        "colab_type": "code",
        "colab": {}
      },
      "source": [
        "agent = Agent(window_size)\n",
        "import pandas as pd\n",
        "data=pd.read_csv('gdrive/My Drive/TSLA.csv', index_col='Date', parse_dates=['Date'])\n",
        "l = len(data) - 1\n",
        "batch_size = 32\n",
        "\n"
      ],
      "execution_count": 0,
      "outputs": []
    },
    {
      "cell_type": "code",
      "metadata": {
        "id": "4MKbQxy-Ai1N",
        "colab_type": "code",
        "colab": {}
      },
      "source": [
        "for e in range(episode_count + 1):\n",
        "\tprint(\"Episode \" + str(e) + \"/\" + str(episode_count))\n",
        "\tstate = getState(data, 0, window_size + 1)\n",
        "\n",
        "\ttotal_profit = 0\n",
        "\tagent.inventory = []\n",
        "\n",
        "\tfor t in range(l):\n",
        "\t\taction = agent.act(state)\n",
        "\n",
        "\t\t# sit\n",
        "\t\tnext_state = getState(data, t + 1, 21)\n",
        "\t\treward = 0\n",
        "\n",
        "\t\tif action == 1: # buy\n",
        "\t\t\tagent.inventory.append(data[t])\n",
        "\t\t\tprint(\"Buy: \" + formatPrice(data[t]))\n",
        "\n",
        "\t\telif action == 2 and len(agent.inventory) > 0: # sell\n",
        "\t\t\tbought_price = agent.inventory.pop(0)\n",
        "\t\t\treward = max(data[t] - bought_price, 0)\n",
        "\t\t\ttotal_profit += data[t] - bought_price\n",
        "\t\t\tprint(\"Sell: \" + formatPrice(data[t]) + \" | Profit: \" + formatPrice(data[t] - bought_price))\n",
        "\n",
        "\t\tdone = True if t == l - 1 else False\n",
        "\t\tagent.memory.append((state, action, reward, next_state, done))\n",
        "\t\tstate = next_state\n",
        "\n",
        "\t\tif done:\n",
        "\t\t\tprint(\"--------------------------------\")\n",
        "\t\t\tprint(\"Total Profit: \" + formatPrice(total_profit))\n",
        "\t\t\tprint(\"--------------------------------\")\n",
        "\n",
        "\t\tif len(agent.memory) > batch_size:\n",
        "\t\t\tagent.expReplay(batch_size)\n"
      ],
      "execution_count": 0,
      "outputs": []
    },
    {
      "cell_type": "code",
      "metadata": {
        "id": "8wBY3xKy7r49",
        "colab_type": "code",
        "outputId": "bc151e70-c5a7-45fb-d29e-df3bb273beed",
        "colab": {
          "resources": {
            "http://localhost:8080/nbextensions/google.colab/files.js": {
              "data": "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",
              "ok": true,
              "headers": [
                [
                  "content-type",
                  "application/javascript"
                ]
              ],
              "status": 200,
              "status_text": ""
            }
          },
          "base_uri": "https://localhost:8080/",
          "height": 111
        }
      },
      "source": [
        "if e % 10 == 0:\n",
        "  agent.model.save(\"models/model_ep\" + str(e))"
      ],
      "execution_count": 0,
      "outputs": [
        {
          "output_type": "display_data",
          "data": {
            "text/html": [
              "\n",
              "     <input type=\"file\" id=\"files-b9038b58-f1b2-4515-b94b-a0d8ad568f21\" name=\"files[]\" multiple disabled />\n",
              "     <output id=\"result-b9038b58-f1b2-4515-b94b-a0d8ad568f21\">\n",
              "      Upload widget is only available when the cell has been executed in the\n",
              "      current browser session. Please rerun this cell to enable.\n",
              "      </output>\n",
              "      <script src=\"/nbextensions/google.colab/files.js\"></script> "
            ],
            "text/plain": [
              "<IPython.core.display.HTML object>"
            ]
          },
          "metadata": {
            "tags": []
          }
        },
        {
          "output_type": "stream",
          "text": [
            "Saving TSLA.csv to TSLA.csv\n"
          ],
          "name": "stdout"
        },
        {
          "output_type": "execute_result",
          "data": {
            "text/plain": [
              "{'TSLA.csv': b'Date,Open,High,Low,Close,Adj Close,Volume\\n2017-11-27,313.250000,317.339996,309.510010,316.809998,316.809998,4555900\\n2017-11-28,316.359985,320.000000,313.920013,317.549988,317.549988,4949500\\n2017-11-29,317.299988,318.000000,301.230011,307.540009,307.540009,8767400\\n2017-11-30,308.559998,310.700012,304.540009,308.850006,308.850006,4351600\\n2017-12-01,305.440002,310.320007,305.049988,306.529999,306.529999,4292900\\n2017-12-04,306.500000,308.269989,300.609985,305.200012,305.200012,5835100\\n2017-12-05,302.000000,308.000000,301.000000,303.700012,303.700012,4646500\\n2017-12-06,300.100006,313.390015,300.000000,313.260010,313.260010,7195300\\n2017-12-07,312.000000,318.630005,311.049988,311.239990,311.239990,4780600\\n2017-12-08,314.600006,316.980011,311.260010,315.130005,315.130005,3468500\\n2017-12-11,314.630005,329.010010,313.750000,328.910004,328.910004,7938000\\n2017-12-12,330.450012,341.440002,330.029999,341.029999,341.029999,8733200\\n2017-12-13,340.929993,344.220001,336.500000,339.029999,339.029999,6221500\\n2017-12-14,341.010010,347.440002,336.899994,337.890015,337.890015,5799900\\n2017-12-15,342.040009,343.899994,335.760010,343.450012,343.450012,6933200\\n2017-12-18,344.899994,346.730011,337.579987,338.869995,338.869995,5476200\\n2017-12-19,340.260010,341.489990,330.299988,331.100006,331.100006,6825000\\n2017-12-20,332.690002,333.100006,325.040009,328.980011,328.980011,5953800\\n2017-12-21,329.589996,333.739990,327.209991,331.660004,331.660004,4385200\\n2017-12-22,329.510010,330.920013,324.820007,325.200012,325.200012,4215800\\n2017-12-26,323.829987,323.940002,316.579987,317.290009,317.290009,4378400\\n2017-12-27,316.000000,317.679993,310.750000,311.640015,311.640015,4712100\\n2017-12-28,311.750000,315.820007,309.540009,315.359985,315.359985,4316300\\n2017-12-29,316.179993,316.410004,310.000000,311.350006,311.350006,3777200\\n2018-01-02,312.000000,322.109985,311.000000,320.529999,320.529999,4352200\\n2018-01-03,321.000000,325.250000,315.549988,317.250000,317.250000,4521500\\n2018-01-04,312.869995,318.549988,305.679993,314.619995,314.619995,9946300\\n2018-01-05,316.619995,317.239990,312.000000,316.579987,316.579987,4591200\\n2018-01-08,316.000000,337.019989,315.500000,336.410004,336.410004,9859400\\n2018-01-09,335.160004,338.799988,327.399994,333.690002,333.690002,7146600\\n2018-01-10,332.200012,337.000000,330.000000,334.799988,334.799988,4309900\\n2018-01-11,335.239990,344.809998,333.260010,337.950012,337.950012,6645500\\n2018-01-12,338.630005,340.410004,333.670013,336.220001,336.220001,4825100\\n2018-01-16,337.540009,345.000000,334.799988,340.059998,340.059998,6474300\\n2018-01-17,340.470001,349.000000,339.750000,347.160004,347.160004,7103500\\n2018-01-18,345.670013,352.299988,343.739990,344.570007,344.570007,5685800\\n2018-01-19,345.000000,350.589996,342.600006,350.019989,350.019989,4888300\\n2018-01-22,349.399994,357.829987,349.200012,351.559998,351.559998,6210400\\n2018-01-23,360.000000,360.500000,351.000000,352.790009,352.790009,5465400\\n2018-01-24,354.579987,354.750000,343.519989,345.890015,345.890015,5287500\\n2018-01-25,348.269989,349.200012,336.399994,337.640015,337.640015,6740300\\n2018-01-26,341.500000,344.000000,335.709991,342.850006,342.850006,4539400\\n2018-01-29,339.850006,350.850006,338.279999,349.529999,349.529999,4747100\\n2018-01-30,345.140015,348.269989,342.170013,345.820007,345.820007,4717700\\n2018-01-31,347.510010,356.190002,345.190002,354.309998,354.309998,6214100\\n2018-02-01,351.000000,359.660004,348.630005,349.250000,349.250000,4197700\\n2018-02-02,348.440002,351.950012,340.510010,343.750000,343.750000,3704800\\n2018-02-05,337.970001,344.470001,333.000000,333.130005,333.130005,4464100\\n2018-02-06,325.209991,336.220001,323.500000,333.970001,333.970001,5088400\\n2018-02-07,338.989990,346.000000,335.660004,345.000000,345.000000,6969200\\n2018-02-08,343.309998,348.619995,314.600006,315.230011,315.230011,10314600\\n2018-02-09,319.929993,320.980011,294.760010,310.420013,310.420013,12933700\\n2018-02-12,316.130005,318.079987,306.250000,315.730011,315.730011,6227800\\n2018-02-13,315.019989,324.190002,312.510010,323.660004,323.660004,4560200\\n2018-02-14,320.839996,326.170013,318.519989,322.309998,322.309998,3950700\\n2018-02-15,324.500000,334.119995,322.399994,334.070007,334.070007,5912900\\n2018-02-16,332.500000,343.119995,331.640015,335.489990,335.489990,5642600\\n2018-02-20,334.470001,340.839996,331.500000,334.769989,334.769989,4009400\\n2018-02-21,336.029999,339.690002,333.170013,333.299988,333.299988,3219600\\n2018-02-22,335.529999,347.440002,334.750000,346.170013,346.170013,6969800\\n2018-02-23,347.829987,354.989990,347.100006,352.049988,352.049988,5817400\\n2018-02-26,353.500000,359.000000,352.359985,357.420013,357.420013,4340000\\n2018-02-27,356.250000,359.989990,350.010010,350.989990,350.989990,4797400\\n2018-02-28,352.570007,355.239990,342.220001,343.059998,343.059998,6069700\\n2018-03-01,345.010010,348.670013,330.070007,330.929993,330.929993,6885600\\n2018-03-02,326.980011,335.220001,322.970001,335.119995,335.119995,5092800\\n2018-03-05,332.390015,337.750000,329.290009,333.350006,333.350006,3823800\\n2018-03-06,333.750000,336.369995,327.029999,328.200012,328.200012,4285700\\n2018-03-07,325.440002,332.500000,321.739990,332.299988,332.299988,5007300\\n2018-03-08,332.859985,333.299988,326.269989,329.100006,329.100006,3566200\\n2018-03-09,324.100006,328.489990,322.369995,327.170013,327.170013,5506800\\n2018-03-12,328.609985,347.209991,326.500000,345.510010,345.510010,8264000\\n2018-03-13,328.609985,347.209991,326.500000,341.839996,341.839996,5965800\\n2018-03-14,336.760010,339.809998,323.929993,326.630005,326.630005,7967400\\n2018-03-15,329.380005,332.850006,321.100006,325.600006,325.600006,6564800\\n2018-03-16,322.929993,327.399994,319.070007,321.350006,321.350006,6117300\\n2018-03-19,316.500000,320.750000,309.670013,313.559998,313.559998,7484300\\n2018-03-20,314.869995,316.250000,308.760010,310.549988,310.549988,4764300\\n2018-03-21,310.250000,322.440002,310.190002,316.529999,316.529999,5958400\\n2018-03-22,313.890015,318.820007,308.179993,309.100006,309.100006,4939800\\n2018-03-23,311.250000,311.250000,300.450012,301.540009,301.540009,6654900\\n2018-03-26,307.339996,307.589996,291.359985,304.179993,304.179993,8375200\\n2018-03-27,304.000000,304.269989,277.179993,279.179993,279.179993,13872000\\n2018-03-28,264.579987,268.679993,252.100006,257.779999,257.779999,21001400\\n2018-03-29,256.489990,270.959991,248.210007,266.130005,266.130005,15170700\\n2018-04-02,256.260010,260.329987,244.589996,252.479996,252.479996,16114000\\n2018-04-03,269.820007,273.350006,254.490005,267.529999,267.529999,18844400\\n2018-04-04,252.779999,288.369995,252.000000,286.940002,286.940002,19896700\\n2018-04-05,289.339996,306.260010,288.200012,305.720001,305.720001,19121100\\n2018-04-06,301.000000,309.279999,295.500000,299.299988,299.299988,13520300\\n2018-04-09,300.369995,309.500000,289.209991,289.660004,289.660004,10249800\\n2018-04-10,298.970001,307.100006,293.679993,304.700012,304.700012,10989800\\n2018-04-11,300.739990,308.980011,299.660004,300.929993,300.929993,7482900\\n2018-04-12,302.320007,303.950012,293.679993,294.079987,294.079987,7608800\\n2018-04-13,303.600006,303.950012,295.980011,300.339996,300.339996,7327200\\n2018-04-16,299.000000,299.660004,289.010010,291.209991,291.209991,6338500\\n2018-04-17,288.869995,292.170013,282.510010,287.690002,287.690002,7000000\\n2018-04-18,291.079987,300.239990,288.160004,293.350006,293.350006,6557700\\n2018-04-19,291.079987,301.010010,288.549988,300.079987,300.079987,6090600\\n2018-04-20,295.170013,299.980011,289.750000,290.239990,290.239990,5627900\\n2018-04-23,291.290009,291.619995,282.329987,283.369995,283.369995,4893400\\n2018-04-24,285.000000,287.089996,278.459991,283.459991,283.459991,5685300\\n2018-04-25,283.500000,285.160004,277.250000,280.690002,280.690002,4013600\\n2018-04-26,278.750000,285.790009,276.500000,285.480011,285.480011,4356000\\n2018-04-27,285.369995,294.470001,283.829987,294.079987,294.079987,4364600\\n2018-04-30,293.609985,298.730011,292.500000,293.899994,293.899994,4228200\\n2018-05-01,293.510010,300.820007,293.220001,299.920013,299.920013,4625600\\n2018-05-02,298.570007,306.850006,297.779999,301.149994,301.149994,8970400\\n2018-05-03,278.790009,288.040009,275.230011,284.450012,284.450012,17352100\\n2018-05-04,283.000000,296.859985,279.519989,294.089996,294.089996,8569400\\n2018-05-07,297.500000,305.959991,295.170013,302.769989,302.769989,8678200\\n2018-05-08,300.799988,307.750000,299.000000,301.970001,301.970001,5930000\\n2018-05-09,300.410004,307.010010,300.049988,306.850006,306.850006,5727400\\n2018-05-10,307.500000,312.989990,304.109985,305.019989,305.019989,5651600\\n2018-05-11,307.700012,308.880005,299.079987,301.059998,301.059998,4679600\\n2018-05-14,303.320007,304.940002,291.619995,291.970001,291.970001,7286800\\n2018-05-15,285.010010,286.959991,280.500000,284.179993,284.179993,9519200\\n2018-05-16,283.829987,288.809998,281.559998,286.480011,286.480011,5674000\\n2018-05-17,285.899994,289.190002,283.970001,284.540009,284.540009,4420600\\n2018-05-18,284.649994,284.649994,274.000000,276.820007,276.820007,7251900\\n2018-05-21,281.329987,291.489990,281.299988,284.489990,284.489990,9182600\\n2018-05-22,287.760010,288.000000,273.420013,275.010010,275.010010,8945800\\n2018-05-23,277.760010,279.910004,274.000000,279.070007,279.070007,5985100\\n2018-05-24,278.399994,281.109985,274.890015,277.850006,277.850006,4176700\\n2018-05-25,277.630005,279.640015,275.609985,278.850006,278.850006,3875100\\n2018-05-29,278.510010,286.500000,276.149994,283.760010,283.760010,5666600\\n2018-05-30,283.290009,295.010010,281.600006,291.720001,291.720001,7489700\\n2018-05-31,287.209991,290.369995,282.929993,284.730011,284.730011,5919700\\n2018-06-01,285.859985,291.950012,283.839996,291.820007,291.820007,5424400\\n2018-06-04,294.339996,299.000000,293.549988,296.739990,296.739990,4797800\\n2018-06-05,297.700012,297.799988,286.739990,291.130005,291.130005,5995200\\n2018-06-06,300.500000,322.170013,297.480011,319.500000,319.500000,18767300\\n2018-06-07,316.149994,330.000000,313.579987,316.089996,316.089996,14345300\\n2018-06-08,319.000000,324.480011,317.149994,317.660004,317.660004,8205200\\n2018-06-11,322.510010,334.660004,322.500000,332.100006,332.100006,13183500\\n2018-06-12,344.700012,354.970001,338.000000,342.769989,342.769989,22347400\\n2018-06-13,346.709991,347.200012,339.799988,344.779999,344.779999,9469800\\n2018-06-14,347.630005,358.750000,346.600006,357.720001,357.720001,10981000\\n2018-06-15,353.839996,364.670013,351.250000,358.170013,358.170013,10848300\\n2018-06-18,355.399994,373.730011,354.500000,370.829987,370.829987,12073200\\n2018-06-19,365.160004,370.000000,346.250000,352.549988,352.549988,12761900\\n2018-06-20,358.040009,364.380005,352.000000,362.220001,362.220001,8383700\\n2018-06-21,362.000000,366.209991,346.269989,347.510010,347.510010,7967100\\n2018-06-22,351.540009,352.250000,332.000000,333.630005,333.630005,10266100\\n2018-06-25,330.119995,338.470001,327.500000,333.010010,333.010010,6931300\\n2018-06-26,336.049988,343.549988,325.799988,342.000000,342.000000,7452500\\n2018-06-27,345.000000,350.790009,339.500000,344.500000,344.500000,8333700\\n2018-06-28,348.660004,357.019989,346.109985,349.929993,349.929993,8398000\\n2018-06-29,353.329987,353.859985,342.410004,342.950012,342.950012,6492400\\n2018-07-02,360.070007,364.779999,329.850006,335.070007,335.070007,18759800\\n2018-07-03,331.750000,332.489990,309.690002,310.859985,310.859985,12282600\\n2018-07-05,313.760010,314.390015,296.220001,309.160004,309.160004,17476400\\n2018-07-06,304.950012,312.070007,302.000000,308.899994,308.899994,8865500\\n2018-07-09,311.989990,318.519989,308.000000,318.510010,318.510010,7596800\\n2018-07-10,324.559998,327.679993,319.200012,322.470001,322.470001,9471500\\n2018-07-11,315.799988,321.940002,315.070007,318.959991,318.959991,4884100\\n2018-07-12,321.429993,323.230011,312.769989,316.709991,316.709991,5721200\\n2018-07-13,315.579987,319.579987,309.250000,318.869995,318.869995,5869800\\n2018-07-16,311.709991,315.160004,306.250000,310.100006,310.100006,7818700\\n2018-07-17,308.809998,324.739990,308.500000,322.690002,322.690002,6996200\\n2018-07-18,325.000000,325.500000,316.250000,323.850006,323.850006,5624200\\n2018-07-19,316.329987,323.540009,314.010010,320.230011,320.230011,5915300\\n2018-07-20,321.230011,323.239990,311.709991,313.579987,313.579987,5162200\\n2018-07-23,301.839996,305.500000,292.859985,303.200012,303.200012,10992900\\n2018-07-24,304.420013,307.720001,292.549988,297.429993,297.429993,9590800\\n2018-07-25,296.739990,309.619995,294.500000,308.739990,308.739990,7075400\\n2018-07-26,304.850006,310.700012,303.640015,306.649994,306.649994,4630500\\n2018-07-27,307.250000,307.690002,295.339996,297.179993,297.179993,5703300\\n2018-07-30,295.899994,296.100006,286.130005,290.170013,290.170013,6814100\\n2018-07-31,292.250000,298.320007,289.070007,298.140015,298.140015,5076900\\n2018-08-01,297.989990,303.000000,293.000000,300.839996,300.839996,10129400\\n2018-08-02,328.440002,349.989990,323.160004,349.540009,349.540009,23215000\\n2018-08-03,347.809998,355.000000,342.529999,348.170013,348.170013,13656500\\n2018-08-06,345.459991,354.980011,341.820007,341.989990,341.989990,8564300\\n2018-08-07,343.839996,387.459991,339.149994,379.570007,379.570007,30875800\\n2018-08-08,369.089996,382.640015,367.119995,370.339996,370.339996,24571200\\n2018-08-09,365.549988,367.010010,345.730011,352.450012,352.450012,17183800\\n2018-08-10,354.000000,360.000000,346.000000,355.489990,355.489990,11552000\\n2018-08-13,361.130005,363.190002,349.019989,356.410004,356.410004,10463900\\n2018-08-14,358.450012,359.200012,347.100006,347.640015,347.640015,6986400\\n2018-08-15,341.910004,344.489990,332.140015,338.690002,338.690002,9101300\\n2018-08-16,339.910004,342.279999,333.820007,335.450012,335.450012,6064000\\n2018-08-17,323.500000,326.769989,303.529999,305.500000,305.500000,18958600\\n2018-08-20,291.700012,308.500000,288.200012,308.440002,308.440002,17402300\\n2018-08-21,310.609985,324.790009,309.000000,321.899994,321.899994,13172200\\n2018-08-22,320.869995,323.880005,314.670013,321.640015,321.640015,5946000\\n2018-08-23,319.140015,327.320007,318.100006,320.100006,320.100006,5147300\\n2018-08-24,320.700012,323.850006,319.399994,322.820007,322.820007,3602600\\n2018-08-27,318.000000,322.440002,308.809998,319.269989,319.269989,13079300\\n2018-08-28,318.410004,318.880005,311.190002,311.859985,311.859985,7649100\\n2018-08-29,310.269989,311.850006,303.690002,305.010010,305.010010,7447400\\n2018-08-30,302.260010,304.600006,297.720001,303.149994,303.149994,7216700\\n2018-08-31,302.000000,305.309998,298.600006,301.660004,301.660004,5375100\\n2018-09-04,296.940002,298.190002,288.000000,288.950012,288.950012,8350500\\n2018-09-05,285.049988,286.779999,277.179993,280.739990,280.739990,7720800\\n2018-09-06,284.799988,291.170013,278.880005,280.950012,280.950012,7480800\\n2018-09-07,260.100006,268.350006,252.250000,263.239990,263.239990,22491900\\n2018-09-10,273.260010,286.029999,271.000000,285.500000,285.500000,14283500\\n2018-09-11,279.470001,282.000000,273.549988,279.440002,279.440002,9170000\\n2018-09-12,281.440002,292.500000,278.649994,290.540009,290.540009,10015400\\n2018-09-13,288.019989,295.000000,285.179993,289.459991,289.459991,6340300\\n2018-09-14,288.760010,297.329987,286.519989,295.200012,295.200012,6765600\\n2018-09-17,290.040009,300.869995,288.130005,294.839996,294.839996,6887600\\n2018-09-18,296.690002,302.640015,275.500000,284.959991,284.959991,16547500\\n2018-09-19,280.510010,300.000000,280.500000,299.019989,299.019989,8294900\\n2018-09-20,303.559998,305.980011,293.329987,298.329987,298.329987,7349400\\n2018-09-21,297.700012,300.579987,295.369995,299.100006,299.100006,5050500\\n2018-09-24,298.480011,303.000000,293.579987,299.679993,299.679993,4843000\\n2018-09-25,300.000000,304.600006,296.500000,300.989990,300.989990,4481700\\n2018-09-26,301.910004,313.890015,301.109985,309.579987,309.579987,7843200\\n2018-09-27,312.899994,314.959991,306.910004,307.519989,307.519989,8509100\\n2018-09-28,270.260010,278.000000,260.559998,264.769989,264.769989,33649700\\n2018-10-01,305.769989,311.440002,301.049988,310.700012,310.700012,21777600\\n2018-10-02,313.950012,316.839996,299.149994,301.019989,301.019989,11743500\\n2018-10-03,303.329987,304.600006,291.570007,294.799988,294.799988,7995000\\n2018-10-04,293.950012,294.000000,277.670013,281.829987,281.829987,9814200\\n2018-10-05,274.649994,274.880005,260.000000,261.950012,261.950012,17944500\\n2018-10-08,264.519989,267.760010,249.000000,250.559998,250.559998,13472700\\n2018-10-09,255.250000,266.769989,253.300003,262.799988,262.799988,12060600\\n2018-10-10,264.609985,265.510010,247.770004,256.880005,256.880005,12815300\\n2018-10-11,257.529999,262.250000,249.029999,252.229996,252.229996,8167700\\n2018-10-12,261.000000,261.989990,252.009995,258.779999,258.779999,7201400\\n2018-10-15,259.059998,263.279999,254.539993,259.589996,259.589996,6200000\\n2018-10-16,265.700012,277.380005,262.239990,276.589996,276.589996,9526400\\n2018-10-17,282.399994,282.700012,265.799988,271.779999,271.779999,8655500\\n2018-10-18,269.290009,271.000000,263.000000,263.910004,263.910004,5421200\\n2018-10-19,267.390015,269.660004,253.500000,260.000000,260.000000,9375500\\n2018-10-22,260.679993,261.859985,252.589996,260.950012,260.950012,5600300\\n2018-10-23,263.869995,297.929993,262.100006,294.140015,294.140015,19027800\\n2018-10-24,301.049988,304.440002,285.730011,288.500000,288.500000,20058300\\n2018-10-25,317.220001,321.000000,301.010010,314.859985,314.859985,20840700\\n2018-10-26,308.250000,339.899994,306.649994,330.899994,330.899994,27425500\\n2018-10-29,337.470001,347.160004,326.500000,334.850006,334.850006,14486000\\n2018-10-30,328.390015,337.899994,322.260010,329.899994,329.899994,9126700\\n2018-10-31,332.540009,342.000000,329.100006,337.320007,337.320007,7624300\\n2018-11-01,338.260010,347.839996,334.730011,344.279999,344.279999,8000100\\n2018-11-02,343.739990,349.200012,340.910004,346.410004,346.410004,7808000\\n2018-11-05,340.500000,343.959991,330.140015,341.399994,341.399994,7831000\\n2018-11-06,339.070007,348.799988,336.089996,341.059998,341.059998,6762900\\n2018-11-07,343.339996,351.179993,340.799988,348.160004,348.160004,7374500\\n2018-11-08,348.500000,357.579987,348.440002,351.399994,351.399994,7090700\\n2018-11-09,349.000000,354.000000,345.230011,350.510010,350.510010,5098800\\n2018-11-12,348.369995,349.779999,330.339996,331.279999,331.279999,6941500\\n2018-11-13,333.160004,344.700012,332.200012,338.730011,338.730011,5448600\\n2018-11-14,342.700012,347.109985,337.149994,344.000000,344.000000,5040300\\n2018-11-15,342.329987,348.579987,339.040009,348.440002,348.440002,4625700\\n2018-11-16,345.190002,355.700012,345.119995,354.309998,354.309998,7206200\\n2018-11-19,356.339996,366.750000,352.880005,353.470001,353.470001,9708900\\n2018-11-20,341.750000,349.799988,333.549988,347.489990,347.489990,8004700\\n2018-11-21,352.000000,353.100006,337.399994,338.190002,338.190002,4686800\\n2018-11-23,334.350006,337.500000,325.549988,325.829987,325.829987,4202600\\n'}"
            ]
          },
          "metadata": {
            "tags": []
          },
          "execution_count": 6
        }
      ]
    },
    {
      "cell_type": "code",
      "metadata": {
        "id": "AQ2t-0xuC6Wl",
        "colab_type": "code",
        "outputId": "2df2c1ff-1853-499e-90a4-59f70629b0ae",
        "colab": {
          "base_uri": "https://localhost:8080/",
          "height": 122
        }
      },
      "source": [
        "from google.colab import drive\n",
        "drive.mount('/content/gdrive')"
      ],
      "execution_count": 0,
      "outputs": [
        {
          "output_type": "stream",
          "text": [
            "Go to this URL in a browser: https://accounts.google.com/o/oauth2/auth?client_id=947318989803-6bn6qk8qdgf4n4g3pfee6491hc0brc4i.apps.googleusercontent.com&redirect_uri=urn%3aietf%3awg%3aoauth%3a2.0%3aoob&response_type=code&scope=email%20https%3a%2f%2fwww.googleapis.com%2fauth%2fdocs.test%20https%3a%2f%2fwww.googleapis.com%2fauth%2fdrive%20https%3a%2f%2fwww.googleapis.com%2fauth%2fdrive.photos.readonly%20https%3a%2f%2fwww.googleapis.com%2fauth%2fpeopleapi.readonly\n",
            "\n",
            "Enter your authorization code:\n",
            "··········\n",
            "Mounted at /content/gdrive\n"
          ],
          "name": "stdout"
        }
      ]
    },
    {
      "cell_type": "code",
      "metadata": {
        "id": "UmzF0NTOEo-t",
        "colab_type": "code",
        "colab": {}
      },
      "source": [
        ""
      ],
      "execution_count": 0,
      "outputs": []
    },
    {
      "cell_type": "code",
      "metadata": {
        "id": "GYzmRUPfE-fX",
        "colab_type": "code",
        "outputId": "4ef88e30-2a72-40e7-f0a5-979cfe8976d1",
        "colab": {
          "base_uri": "https://localhost:8080/",
          "height": 34
        }
      },
      "source": [
        "data.head()\n",
        "data.iloc[0][1]"
      ],
      "execution_count": 0,
      "outputs": [
        {
          "output_type": "execute_result",
          "data": {
            "text/plain": [
              "313.25"
            ]
          },
          "metadata": {
            "tags": []
          },
          "execution_count": 6
        }
      ]
    },
    {
      "cell_type": "code",
      "metadata": {
        "id": "hAdH7ZpwFDYK",
        "colab_type": "code",
        "colab": {}
      },
      "source": [
        ""
      ],
      "execution_count": 0,
      "outputs": []
    }
  ]
}